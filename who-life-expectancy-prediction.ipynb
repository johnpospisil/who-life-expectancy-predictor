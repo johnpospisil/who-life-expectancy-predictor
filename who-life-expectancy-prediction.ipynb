{
 "cells": [
  {
   "cell_type": "markdown",
   "id": "94f90194",
   "metadata": {
    "execution": {
     "iopub.execute_input": "2024-02-28T23:25:24.316085Z",
     "iopub.status.busy": "2024-02-28T23:25:24.315659Z",
     "iopub.status.idle": "2024-02-28T23:25:24.321764Z",
     "shell.execute_reply": "2024-02-28T23:25:24.320619Z",
     "shell.execute_reply.started": "2024-02-28T23:25:24.316053Z"
    },
    "papermill": {
     "duration": 0.005367,
     "end_time": "2024-02-29T10:50:09.492109",
     "exception": false,
     "start_time": "2024-02-29T10:50:09.486742",
     "status": "completed"
    },
    "tags": []
   },
   "source": [
    "# WHO Life Expectancy Predictions using Multiple Linear Regression"
   ]
  },
  {
   "cell_type": "markdown",
   "id": "bde09746",
   "metadata": {
    "papermill": {
     "duration": 0.004761,
     "end_time": "2024-02-29T10:50:09.501904",
     "exception": false,
     "start_time": "2024-02-29T10:50:09.497143",
     "status": "completed"
    },
    "tags": []
   },
   "source": [
    "### **Table of Contents**\n",
    "* [<span style=\"color:#A690A4\"> 0. Executive Summary](#exe_sum)\n",
    "* [<span style=\"color:#A690A4\"> 1. Introduction](#intro)\n",
    "* [<span style=\"color:#A690A4\"> 2. Collect, Wrangle & Explore](#process)\n",
    "* [<span style=\"color:#A690A4\"> 3. Predict Life Expectancy](#predict)"
   ]
  },
  {
   "cell_type": "markdown",
   "id": "9a2bd555",
   "metadata": {
    "papermill": {
     "duration": 0.004574,
     "end_time": "2024-02-29T10:50:09.511497",
     "exception": false,
     "start_time": "2024-02-29T10:50:09.506923",
     "status": "completed"
    },
    "tags": []
   },
   "source": [
    "# <span style=\"color:#5E6997\">Executive Summary</span> <a class=\"anchor\" id=\"exe_sum\"></a>"
   ]
  },
  {
   "cell_type": "markdown",
   "id": "092e42ee",
   "metadata": {
    "papermill": {
     "duration": 0.004699,
     "end_time": "2024-02-29T10:50:09.520991",
     "exception": false,
     "start_time": "2024-02-29T10:50:09.516292",
     "status": "completed"
    },
    "tags": []
   },
   "source": [
    "# <span style=\"color:#5E6997\">Introduction</span> <a class=\"anchor\" id=\"intro\"></a>"
   ]
  },
  {
   "cell_type": "markdown",
   "id": "aad25183",
   "metadata": {
    "papermill": {
     "duration": 0.004546,
     "end_time": "2024-02-29T10:50:09.530456",
     "exception": false,
     "start_time": "2024-02-29T10:50:09.525910",
     "status": "completed"
    },
    "tags": []
   },
   "source": [
    "# <span style=\"color:#5E6997\">Collect, Wrangle, and Explore</span> <a class=\"anchor\" id=\"process\"></a>"
   ]
  },
  {
   "cell_type": "markdown",
   "id": "a23889f4",
   "metadata": {
    "papermill": {
     "duration": 0.005,
     "end_time": "2024-02-29T10:50:09.540537",
     "exception": false,
     "start_time": "2024-02-29T10:50:09.535537",
     "status": "completed"
    },
    "tags": []
   },
   "source": [
    "Import needed libraries and load the dataset."
   ]
  },
  {
   "cell_type": "code",
   "execution_count": 1,
   "id": "51e43eba",
   "metadata": {
    "_cell_guid": "b1076dfc-b9ad-4769-8c92-a6c4dae69d19",
    "_uuid": "8f2839f25d086af736a60e9eeb907d3b93b6e0e5",
    "execution": {
     "iopub.execute_input": "2024-02-29T10:50:09.552486Z",
     "iopub.status.busy": "2024-02-29T10:50:09.552021Z",
     "iopub.status.idle": "2024-02-29T10:50:14.232872Z",
     "shell.execute_reply": "2024-02-29T10:50:14.231665Z"
    },
    "papermill": {
     "duration": 4.690001,
     "end_time": "2024-02-29T10:50:14.235502",
     "exception": false,
     "start_time": "2024-02-29T10:50:09.545501",
     "status": "completed"
    },
    "tags": []
   },
   "outputs": [],
   "source": [
    "import numpy as np \n",
    "import pandas as pd\n",
    "import matplotlib.pyplot as plt\n",
    "from mpl_toolkits.mplot3d import Axes3D\n",
    "import seaborn as sns\n",
    "import statsmodels.api as sm\n",
    "from scipy.stats import pearsonr\n",
    "from scipy import stats\n",
    "from sklearn.preprocessing import MinMaxScaler\n",
    "from sklearn.model_selection import train_test_split\n",
    "from category_encoders.binary import BinaryEncoder"
   ]
  },
  {
   "cell_type": "code",
   "execution_count": 2,
   "id": "67145ca8",
   "metadata": {
    "execution": {
     "iopub.execute_input": "2024-02-29T10:50:14.247766Z",
     "iopub.status.busy": "2024-02-29T10:50:14.247239Z",
     "iopub.status.idle": "2024-02-29T10:50:14.322575Z",
     "shell.execute_reply": "2024-02-29T10:50:14.321338Z"
    },
    "papermill": {
     "duration": 0.084738,
     "end_time": "2024-02-29T10:50:14.325194",
     "exception": false,
     "start_time": "2024-02-29T10:50:14.240456",
     "status": "completed"
    },
    "tags": []
   },
   "outputs": [
    {
     "data": {
      "text/html": [
       "<div>\n",
       "<style scoped>\n",
       "    .dataframe tbody tr th:only-of-type {\n",
       "        vertical-align: middle;\n",
       "    }\n",
       "\n",
       "    .dataframe tbody tr th {\n",
       "        vertical-align: top;\n",
       "    }\n",
       "\n",
       "    .dataframe thead th {\n",
       "        text-align: right;\n",
       "    }\n",
       "</style>\n",
       "<table border=\"1\" class=\"dataframe\">\n",
       "  <thead>\n",
       "    <tr style=\"text-align: right;\">\n",
       "      <th></th>\n",
       "      <th>Country</th>\n",
       "      <th>Region</th>\n",
       "      <th>Year</th>\n",
       "      <th>Infant_deaths</th>\n",
       "      <th>Under_five_deaths</th>\n",
       "      <th>Adult_mortality</th>\n",
       "      <th>Alcohol_consumption</th>\n",
       "      <th>Hepatitis_B</th>\n",
       "      <th>Measles</th>\n",
       "      <th>BMI</th>\n",
       "      <th>...</th>\n",
       "      <th>Diphtheria</th>\n",
       "      <th>Incidents_HIV</th>\n",
       "      <th>GDP_per_capita</th>\n",
       "      <th>Population_mln</th>\n",
       "      <th>Thinness_ten_nineteen_years</th>\n",
       "      <th>Thinness_five_nine_years</th>\n",
       "      <th>Schooling</th>\n",
       "      <th>Economy_status_Developed</th>\n",
       "      <th>Economy_status_Developing</th>\n",
       "      <th>Life_expectancy</th>\n",
       "    </tr>\n",
       "  </thead>\n",
       "  <tbody>\n",
       "    <tr>\n",
       "      <th>0</th>\n",
       "      <td>Turkiye</td>\n",
       "      <td>Middle East</td>\n",
       "      <td>2015</td>\n",
       "      <td>11.1</td>\n",
       "      <td>13.0</td>\n",
       "      <td>105.8240</td>\n",
       "      <td>1.32</td>\n",
       "      <td>97</td>\n",
       "      <td>65</td>\n",
       "      <td>27.8</td>\n",
       "      <td>...</td>\n",
       "      <td>97</td>\n",
       "      <td>0.08</td>\n",
       "      <td>11006</td>\n",
       "      <td>78.53</td>\n",
       "      <td>4.9</td>\n",
       "      <td>4.8</td>\n",
       "      <td>7.8</td>\n",
       "      <td>0</td>\n",
       "      <td>1</td>\n",
       "      <td>76.5</td>\n",
       "    </tr>\n",
       "    <tr>\n",
       "      <th>1</th>\n",
       "      <td>Spain</td>\n",
       "      <td>European Union</td>\n",
       "      <td>2015</td>\n",
       "      <td>2.7</td>\n",
       "      <td>3.3</td>\n",
       "      <td>57.9025</td>\n",
       "      <td>10.35</td>\n",
       "      <td>97</td>\n",
       "      <td>94</td>\n",
       "      <td>26.0</td>\n",
       "      <td>...</td>\n",
       "      <td>97</td>\n",
       "      <td>0.09</td>\n",
       "      <td>25742</td>\n",
       "      <td>46.44</td>\n",
       "      <td>0.6</td>\n",
       "      <td>0.5</td>\n",
       "      <td>9.7</td>\n",
       "      <td>1</td>\n",
       "      <td>0</td>\n",
       "      <td>82.8</td>\n",
       "    </tr>\n",
       "    <tr>\n",
       "      <th>2</th>\n",
       "      <td>India</td>\n",
       "      <td>Asia</td>\n",
       "      <td>2007</td>\n",
       "      <td>51.5</td>\n",
       "      <td>67.9</td>\n",
       "      <td>201.0765</td>\n",
       "      <td>1.57</td>\n",
       "      <td>60</td>\n",
       "      <td>35</td>\n",
       "      <td>21.2</td>\n",
       "      <td>...</td>\n",
       "      <td>64</td>\n",
       "      <td>0.13</td>\n",
       "      <td>1076</td>\n",
       "      <td>1183.21</td>\n",
       "      <td>27.1</td>\n",
       "      <td>28.0</td>\n",
       "      <td>5.0</td>\n",
       "      <td>0</td>\n",
       "      <td>1</td>\n",
       "      <td>65.4</td>\n",
       "    </tr>\n",
       "    <tr>\n",
       "      <th>3</th>\n",
       "      <td>Guyana</td>\n",
       "      <td>South America</td>\n",
       "      <td>2006</td>\n",
       "      <td>32.8</td>\n",
       "      <td>40.5</td>\n",
       "      <td>222.1965</td>\n",
       "      <td>5.68</td>\n",
       "      <td>93</td>\n",
       "      <td>74</td>\n",
       "      <td>25.3</td>\n",
       "      <td>...</td>\n",
       "      <td>93</td>\n",
       "      <td>0.79</td>\n",
       "      <td>4146</td>\n",
       "      <td>0.75</td>\n",
       "      <td>5.7</td>\n",
       "      <td>5.5</td>\n",
       "      <td>7.9</td>\n",
       "      <td>0</td>\n",
       "      <td>1</td>\n",
       "      <td>67.0</td>\n",
       "    </tr>\n",
       "    <tr>\n",
       "      <th>4</th>\n",
       "      <td>Israel</td>\n",
       "      <td>Middle East</td>\n",
       "      <td>2012</td>\n",
       "      <td>3.4</td>\n",
       "      <td>4.3</td>\n",
       "      <td>57.9510</td>\n",
       "      <td>2.89</td>\n",
       "      <td>97</td>\n",
       "      <td>89</td>\n",
       "      <td>27.0</td>\n",
       "      <td>...</td>\n",
       "      <td>94</td>\n",
       "      <td>0.08</td>\n",
       "      <td>33995</td>\n",
       "      <td>7.91</td>\n",
       "      <td>1.2</td>\n",
       "      <td>1.1</td>\n",
       "      <td>12.8</td>\n",
       "      <td>1</td>\n",
       "      <td>0</td>\n",
       "      <td>81.7</td>\n",
       "    </tr>\n",
       "  </tbody>\n",
       "</table>\n",
       "<p>5 rows × 21 columns</p>\n",
       "</div>"
      ],
      "text/plain": [
       "   Country          Region  Year  Infant_deaths  Under_five_deaths  \\\n",
       "0  Turkiye     Middle East  2015           11.1               13.0   \n",
       "1    Spain  European Union  2015            2.7                3.3   \n",
       "2    India            Asia  2007           51.5               67.9   \n",
       "3   Guyana   South America  2006           32.8               40.5   \n",
       "4   Israel     Middle East  2012            3.4                4.3   \n",
       "\n",
       "   Adult_mortality  Alcohol_consumption  Hepatitis_B  Measles   BMI  ...  \\\n",
       "0         105.8240                 1.32           97       65  27.8  ...   \n",
       "1          57.9025                10.35           97       94  26.0  ...   \n",
       "2         201.0765                 1.57           60       35  21.2  ...   \n",
       "3         222.1965                 5.68           93       74  25.3  ...   \n",
       "4          57.9510                 2.89           97       89  27.0  ...   \n",
       "\n",
       "   Diphtheria  Incidents_HIV  GDP_per_capita  Population_mln  \\\n",
       "0          97           0.08           11006           78.53   \n",
       "1          97           0.09           25742           46.44   \n",
       "2          64           0.13            1076         1183.21   \n",
       "3          93           0.79            4146            0.75   \n",
       "4          94           0.08           33995            7.91   \n",
       "\n",
       "   Thinness_ten_nineteen_years  Thinness_five_nine_years  Schooling  \\\n",
       "0                          4.9                       4.8        7.8   \n",
       "1                          0.6                       0.5        9.7   \n",
       "2                         27.1                      28.0        5.0   \n",
       "3                          5.7                       5.5        7.9   \n",
       "4                          1.2                       1.1       12.8   \n",
       "\n",
       "   Economy_status_Developed  Economy_status_Developing  Life_expectancy  \n",
       "0                         0                          1             76.5  \n",
       "1                         1                          0             82.8  \n",
       "2                         0                          1             65.4  \n",
       "3                         0                          1             67.0  \n",
       "4                         1                          0             81.7  \n",
       "\n",
       "[5 rows x 21 columns]"
      ]
     },
     "execution_count": 2,
     "metadata": {},
     "output_type": "execute_result"
    }
   ],
   "source": [
    "df = pd.read_csv('/kaggle/input/life-expectancy-who-updated/Life-Expectancy-Data-Updated.csv', encoding='ISO-8859-1')\n",
    "\n",
    "df.head()"
   ]
  },
  {
   "cell_type": "markdown",
   "id": "76772e9c",
   "metadata": {
    "papermill": {
     "duration": 0.005011,
     "end_time": "2024-02-29T10:50:14.335723",
     "exception": false,
     "start_time": "2024-02-29T10:50:14.330712",
     "status": "completed"
    },
    "tags": []
   },
   "source": [
    "Check for null values."
   ]
  },
  {
   "cell_type": "code",
   "execution_count": 3,
   "id": "f39a78ac",
   "metadata": {
    "execution": {
     "iopub.execute_input": "2024-02-29T10:50:14.350426Z",
     "iopub.status.busy": "2024-02-29T10:50:14.349065Z",
     "iopub.status.idle": "2024-02-29T10:50:14.375781Z",
     "shell.execute_reply": "2024-02-29T10:50:14.374353Z"
    },
    "papermill": {
     "duration": 0.036301,
     "end_time": "2024-02-29T10:50:14.378227",
     "exception": false,
     "start_time": "2024-02-29T10:50:14.341926",
     "status": "completed"
    },
    "tags": []
   },
   "outputs": [
    {
     "name": "stdout",
     "output_type": "stream",
     "text": [
      "<class 'pandas.core.frame.DataFrame'>\n",
      "RangeIndex: 2864 entries, 0 to 2863\n",
      "Data columns (total 21 columns):\n",
      " #   Column                       Non-Null Count  Dtype  \n",
      "---  ------                       --------------  -----  \n",
      " 0   Country                      2864 non-null   object \n",
      " 1   Region                       2864 non-null   object \n",
      " 2   Year                         2864 non-null   int64  \n",
      " 3   Infant_deaths                2864 non-null   float64\n",
      " 4   Under_five_deaths            2864 non-null   float64\n",
      " 5   Adult_mortality              2864 non-null   float64\n",
      " 6   Alcohol_consumption          2864 non-null   float64\n",
      " 7   Hepatitis_B                  2864 non-null   int64  \n",
      " 8   Measles                      2864 non-null   int64  \n",
      " 9   BMI                          2864 non-null   float64\n",
      " 10  Polio                        2864 non-null   int64  \n",
      " 11  Diphtheria                   2864 non-null   int64  \n",
      " 12  Incidents_HIV                2864 non-null   float64\n",
      " 13  GDP_per_capita               2864 non-null   int64  \n",
      " 14  Population_mln               2864 non-null   float64\n",
      " 15  Thinness_ten_nineteen_years  2864 non-null   float64\n",
      " 16  Thinness_five_nine_years     2864 non-null   float64\n",
      " 17  Schooling                    2864 non-null   float64\n",
      " 18  Economy_status_Developed     2864 non-null   int64  \n",
      " 19  Economy_status_Developing    2864 non-null   int64  \n",
      " 20  Life_expectancy              2864 non-null   float64\n",
      "dtypes: float64(11), int64(8), object(2)\n",
      "memory usage: 470.0+ KB\n"
     ]
    }
   ],
   "source": [
    "df.info()"
   ]
  },
  {
   "cell_type": "markdown",
   "id": "f38f78ef",
   "metadata": {
    "execution": {
     "iopub.execute_input": "2024-02-29T00:13:36.224679Z",
     "iopub.status.busy": "2024-02-29T00:13:36.223478Z",
     "iopub.status.idle": "2024-02-29T00:13:36.233557Z",
     "shell.execute_reply": "2024-02-29T00:13:36.231667Z",
     "shell.execute_reply.started": "2024-02-29T00:13:36.224635Z"
    },
    "papermill": {
     "duration": 0.005221,
     "end_time": "2024-02-29T10:50:14.388990",
     "exception": false,
     "start_time": "2024-02-29T10:50:14.383769",
     "status": "completed"
    },
    "tags": []
   },
   "source": [
    "I will need to change the datatype of 'Country' and 'Region'."
   ]
  },
  {
   "cell_type": "markdown",
   "id": "97ac55d1",
   "metadata": {
    "papermill": {
     "duration": 0.004939,
     "end_time": "2024-02-29T10:50:14.399183",
     "exception": false,
     "start_time": "2024-02-29T10:50:14.394244",
     "status": "completed"
    },
    "tags": []
   },
   "source": [
    "Create dummy features to represent the 'Region' feature."
   ]
  },
  {
   "cell_type": "code",
   "execution_count": 4,
   "id": "3789c35d",
   "metadata": {
    "execution": {
     "iopub.execute_input": "2024-02-29T10:50:14.412590Z",
     "iopub.status.busy": "2024-02-29T10:50:14.411599Z",
     "iopub.status.idle": "2024-02-29T10:50:14.419658Z",
     "shell.execute_reply": "2024-02-29T10:50:14.418721Z"
    },
    "papermill": {
     "duration": 0.01708,
     "end_time": "2024-02-29T10:50:14.421954",
     "exception": false,
     "start_time": "2024-02-29T10:50:14.404874",
     "status": "completed"
    },
    "tags": []
   },
   "outputs": [],
   "source": [
    "df = pd.get_dummies(df, columns=['Region'], prefix=['Region'], dtype=int)"
   ]
  },
  {
   "cell_type": "code",
   "execution_count": 5,
   "id": "537009cd",
   "metadata": {
    "execution": {
     "iopub.execute_input": "2024-02-29T10:50:14.435609Z",
     "iopub.status.busy": "2024-02-29T10:50:14.434827Z",
     "iopub.status.idle": "2024-02-29T10:50:14.458787Z",
     "shell.execute_reply": "2024-02-29T10:50:14.457941Z"
    },
    "papermill": {
     "duration": 0.032348,
     "end_time": "2024-02-29T10:50:14.460686",
     "exception": false,
     "start_time": "2024-02-29T10:50:14.428338",
     "status": "completed"
    },
    "tags": []
   },
   "outputs": [
    {
     "data": {
      "text/html": [
       "<div>\n",
       "<style scoped>\n",
       "    .dataframe tbody tr th:only-of-type {\n",
       "        vertical-align: middle;\n",
       "    }\n",
       "\n",
       "    .dataframe tbody tr th {\n",
       "        vertical-align: top;\n",
       "    }\n",
       "\n",
       "    .dataframe thead th {\n",
       "        text-align: right;\n",
       "    }\n",
       "</style>\n",
       "<table border=\"1\" class=\"dataframe\">\n",
       "  <thead>\n",
       "    <tr style=\"text-align: right;\">\n",
       "      <th></th>\n",
       "      <th>Country</th>\n",
       "      <th>Year</th>\n",
       "      <th>Infant_deaths</th>\n",
       "      <th>Under_five_deaths</th>\n",
       "      <th>Adult_mortality</th>\n",
       "      <th>Alcohol_consumption</th>\n",
       "      <th>Hepatitis_B</th>\n",
       "      <th>Measles</th>\n",
       "      <th>BMI</th>\n",
       "      <th>Polio</th>\n",
       "      <th>...</th>\n",
       "      <th>Life_expectancy</th>\n",
       "      <th>Region_Africa</th>\n",
       "      <th>Region_Asia</th>\n",
       "      <th>Region_Central America and Caribbean</th>\n",
       "      <th>Region_European Union</th>\n",
       "      <th>Region_Middle East</th>\n",
       "      <th>Region_North America</th>\n",
       "      <th>Region_Oceania</th>\n",
       "      <th>Region_Rest of Europe</th>\n",
       "      <th>Region_South America</th>\n",
       "    </tr>\n",
       "  </thead>\n",
       "  <tbody>\n",
       "    <tr>\n",
       "      <th>0</th>\n",
       "      <td>Turkiye</td>\n",
       "      <td>2015</td>\n",
       "      <td>11.1</td>\n",
       "      <td>13.0</td>\n",
       "      <td>105.8240</td>\n",
       "      <td>1.32</td>\n",
       "      <td>97</td>\n",
       "      <td>65</td>\n",
       "      <td>27.8</td>\n",
       "      <td>97</td>\n",
       "      <td>...</td>\n",
       "      <td>76.5</td>\n",
       "      <td>0</td>\n",
       "      <td>0</td>\n",
       "      <td>0</td>\n",
       "      <td>0</td>\n",
       "      <td>1</td>\n",
       "      <td>0</td>\n",
       "      <td>0</td>\n",
       "      <td>0</td>\n",
       "      <td>0</td>\n",
       "    </tr>\n",
       "    <tr>\n",
       "      <th>1</th>\n",
       "      <td>Spain</td>\n",
       "      <td>2015</td>\n",
       "      <td>2.7</td>\n",
       "      <td>3.3</td>\n",
       "      <td>57.9025</td>\n",
       "      <td>10.35</td>\n",
       "      <td>97</td>\n",
       "      <td>94</td>\n",
       "      <td>26.0</td>\n",
       "      <td>97</td>\n",
       "      <td>...</td>\n",
       "      <td>82.8</td>\n",
       "      <td>0</td>\n",
       "      <td>0</td>\n",
       "      <td>0</td>\n",
       "      <td>1</td>\n",
       "      <td>0</td>\n",
       "      <td>0</td>\n",
       "      <td>0</td>\n",
       "      <td>0</td>\n",
       "      <td>0</td>\n",
       "    </tr>\n",
       "    <tr>\n",
       "      <th>2</th>\n",
       "      <td>India</td>\n",
       "      <td>2007</td>\n",
       "      <td>51.5</td>\n",
       "      <td>67.9</td>\n",
       "      <td>201.0765</td>\n",
       "      <td>1.57</td>\n",
       "      <td>60</td>\n",
       "      <td>35</td>\n",
       "      <td>21.2</td>\n",
       "      <td>67</td>\n",
       "      <td>...</td>\n",
       "      <td>65.4</td>\n",
       "      <td>0</td>\n",
       "      <td>1</td>\n",
       "      <td>0</td>\n",
       "      <td>0</td>\n",
       "      <td>0</td>\n",
       "      <td>0</td>\n",
       "      <td>0</td>\n",
       "      <td>0</td>\n",
       "      <td>0</td>\n",
       "    </tr>\n",
       "    <tr>\n",
       "      <th>3</th>\n",
       "      <td>Guyana</td>\n",
       "      <td>2006</td>\n",
       "      <td>32.8</td>\n",
       "      <td>40.5</td>\n",
       "      <td>222.1965</td>\n",
       "      <td>5.68</td>\n",
       "      <td>93</td>\n",
       "      <td>74</td>\n",
       "      <td>25.3</td>\n",
       "      <td>92</td>\n",
       "      <td>...</td>\n",
       "      <td>67.0</td>\n",
       "      <td>0</td>\n",
       "      <td>0</td>\n",
       "      <td>0</td>\n",
       "      <td>0</td>\n",
       "      <td>0</td>\n",
       "      <td>0</td>\n",
       "      <td>0</td>\n",
       "      <td>0</td>\n",
       "      <td>1</td>\n",
       "    </tr>\n",
       "    <tr>\n",
       "      <th>4</th>\n",
       "      <td>Israel</td>\n",
       "      <td>2012</td>\n",
       "      <td>3.4</td>\n",
       "      <td>4.3</td>\n",
       "      <td>57.9510</td>\n",
       "      <td>2.89</td>\n",
       "      <td>97</td>\n",
       "      <td>89</td>\n",
       "      <td>27.0</td>\n",
       "      <td>94</td>\n",
       "      <td>...</td>\n",
       "      <td>81.7</td>\n",
       "      <td>0</td>\n",
       "      <td>0</td>\n",
       "      <td>0</td>\n",
       "      <td>0</td>\n",
       "      <td>1</td>\n",
       "      <td>0</td>\n",
       "      <td>0</td>\n",
       "      <td>0</td>\n",
       "      <td>0</td>\n",
       "    </tr>\n",
       "  </tbody>\n",
       "</table>\n",
       "<p>5 rows × 29 columns</p>\n",
       "</div>"
      ],
      "text/plain": [
       "   Country  Year  Infant_deaths  Under_five_deaths  Adult_mortality  \\\n",
       "0  Turkiye  2015           11.1               13.0         105.8240   \n",
       "1    Spain  2015            2.7                3.3          57.9025   \n",
       "2    India  2007           51.5               67.9         201.0765   \n",
       "3   Guyana  2006           32.8               40.5         222.1965   \n",
       "4   Israel  2012            3.4                4.3          57.9510   \n",
       "\n",
       "   Alcohol_consumption  Hepatitis_B  Measles   BMI  Polio  ...  \\\n",
       "0                 1.32           97       65  27.8     97  ...   \n",
       "1                10.35           97       94  26.0     97  ...   \n",
       "2                 1.57           60       35  21.2     67  ...   \n",
       "3                 5.68           93       74  25.3     92  ...   \n",
       "4                 2.89           97       89  27.0     94  ...   \n",
       "\n",
       "   Life_expectancy  Region_Africa  Region_Asia  \\\n",
       "0             76.5              0            0   \n",
       "1             82.8              0            0   \n",
       "2             65.4              0            1   \n",
       "3             67.0              0            0   \n",
       "4             81.7              0            0   \n",
       "\n",
       "   Region_Central America and Caribbean  Region_European Union  \\\n",
       "0                                     0                      0   \n",
       "1                                     0                      1   \n",
       "2                                     0                      0   \n",
       "3                                     0                      0   \n",
       "4                                     0                      0   \n",
       "\n",
       "   Region_Middle East  Region_North America  Region_Oceania  \\\n",
       "0                   1                     0               0   \n",
       "1                   0                     0               0   \n",
       "2                   0                     0               0   \n",
       "3                   0                     0               0   \n",
       "4                   1                     0               0   \n",
       "\n",
       "   Region_Rest of Europe  Region_South America  \n",
       "0                      0                     0  \n",
       "1                      0                     0  \n",
       "2                      0                     0  \n",
       "3                      0                     1  \n",
       "4                      0                     0  \n",
       "\n",
       "[5 rows x 29 columns]"
      ]
     },
     "execution_count": 5,
     "metadata": {},
     "output_type": "execute_result"
    }
   ],
   "source": [
    "df.head()"
   ]
  },
  {
   "cell_type": "markdown",
   "id": "9520965b",
   "metadata": {
    "execution": {
     "iopub.execute_input": "2024-02-29T00:28:26.821525Z",
     "iopub.status.busy": "2024-02-29T00:28:26.821007Z",
     "iopub.status.idle": "2024-02-29T00:28:26.830900Z",
     "shell.execute_reply": "2024-02-29T00:28:26.829194Z",
     "shell.execute_reply.started": "2024-02-29T00:28:26.821494Z"
    },
    "papermill": {
     "duration": 0.005421,
     "end_time": "2024-02-29T10:50:14.471836",
     "exception": false,
     "start_time": "2024-02-29T10:50:14.466415",
     "status": "completed"
    },
    "tags": []
   },
   "source": [
    "Create Train and Test data."
   ]
  },
  {
   "cell_type": "code",
   "execution_count": 6,
   "id": "e601d0e0",
   "metadata": {
    "execution": {
     "iopub.execute_input": "2024-02-29T10:50:14.485421Z",
     "iopub.status.busy": "2024-02-29T10:50:14.484719Z",
     "iopub.status.idle": "2024-02-29T10:50:14.492750Z",
     "shell.execute_reply": "2024-02-29T10:50:14.491906Z"
    },
    "papermill": {
     "duration": 0.017239,
     "end_time": "2024-02-29T10:50:14.494865",
     "exception": false,
     "start_time": "2024-02-29T10:50:14.477626",
     "status": "completed"
    },
    "tags": []
   },
   "outputs": [],
   "source": [
    "X_train, X_test, y_train, y_test = train_test_split(\n",
    "    df.drop(labels=[\"Life_expectancy\"], axis=1),\n",
    "    df[\"Life_expectancy\"],\n",
    "    test_size=0.25,\n",
    "    random_state=0,\n",
    ")"
   ]
  },
  {
   "cell_type": "markdown",
   "id": "1296a649",
   "metadata": {
    "papermill": {
     "duration": 0.005879,
     "end_time": "2024-02-29T10:50:14.506821",
     "exception": false,
     "start_time": "2024-02-29T10:50:14.500942",
     "status": "completed"
    },
    "tags": []
   },
   "source": [
    "Binary Encode the 'Country' feature."
   ]
  },
  {
   "cell_type": "code",
   "execution_count": 7,
   "id": "364b402c",
   "metadata": {
    "execution": {
     "iopub.execute_input": "2024-02-29T10:50:14.521135Z",
     "iopub.status.busy": "2024-02-29T10:50:14.520545Z",
     "iopub.status.idle": "2024-02-29T10:50:14.525266Z",
     "shell.execute_reply": "2024-02-29T10:50:14.524516Z"
    },
    "papermill": {
     "duration": 0.014439,
     "end_time": "2024-02-29T10:50:14.527386",
     "exception": false,
     "start_time": "2024-02-29T10:50:14.512947",
     "status": "completed"
    },
    "tags": []
   },
   "outputs": [],
   "source": [
    "encoder = BinaryEncoder(cols=[\"Country\"], drop_invariant=True)"
   ]
  },
  {
   "cell_type": "code",
   "execution_count": 8,
   "id": "8521d68f",
   "metadata": {
    "execution": {
     "iopub.execute_input": "2024-02-29T10:50:14.540807Z",
     "iopub.status.busy": "2024-02-29T10:50:14.540145Z",
     "iopub.status.idle": "2024-02-29T10:50:14.570132Z",
     "shell.execute_reply": "2024-02-29T10:50:14.569028Z"
    },
    "papermill": {
     "duration": 0.039807,
     "end_time": "2024-02-29T10:50:14.573024",
     "exception": false,
     "start_time": "2024-02-29T10:50:14.533217",
     "status": "completed"
    },
    "tags": []
   },
   "outputs": [],
   "source": [
    "encoder.fit(X_train)\n",
    "\n",
    "X_train_enc = encoder.transform(X_train)\n",
    "X_test_enc = encoder.transform(X_test)"
   ]
  },
  {
   "cell_type": "code",
   "execution_count": 9,
   "id": "bd3abc14",
   "metadata": {
    "execution": {
     "iopub.execute_input": "2024-02-29T10:50:14.586968Z",
     "iopub.status.busy": "2024-02-29T10:50:14.586590Z",
     "iopub.status.idle": "2024-02-29T10:50:14.604792Z",
     "shell.execute_reply": "2024-02-29T10:50:14.603583Z"
    },
    "papermill": {
     "duration": 0.027879,
     "end_time": "2024-02-29T10:50:14.606991",
     "exception": false,
     "start_time": "2024-02-29T10:50:14.579112",
     "status": "completed"
    },
    "tags": []
   },
   "outputs": [
    {
     "data": {
      "text/html": [
       "<div>\n",
       "<style scoped>\n",
       "    .dataframe tbody tr th:only-of-type {\n",
       "        vertical-align: middle;\n",
       "    }\n",
       "\n",
       "    .dataframe tbody tr th {\n",
       "        vertical-align: top;\n",
       "    }\n",
       "\n",
       "    .dataframe thead th {\n",
       "        text-align: right;\n",
       "    }\n",
       "</style>\n",
       "<table border=\"1\" class=\"dataframe\">\n",
       "  <thead>\n",
       "    <tr style=\"text-align: right;\">\n",
       "      <th></th>\n",
       "      <th>Country_0</th>\n",
       "      <th>Country_1</th>\n",
       "      <th>Country_2</th>\n",
       "      <th>Country_3</th>\n",
       "      <th>Country_4</th>\n",
       "      <th>Country_5</th>\n",
       "      <th>Country_6</th>\n",
       "      <th>Country_7</th>\n",
       "      <th>Year</th>\n",
       "      <th>Infant_deaths</th>\n",
       "      <th>...</th>\n",
       "      <th>Economy_status_Developing</th>\n",
       "      <th>Region_Africa</th>\n",
       "      <th>Region_Asia</th>\n",
       "      <th>Region_Central America and Caribbean</th>\n",
       "      <th>Region_European Union</th>\n",
       "      <th>Region_Middle East</th>\n",
       "      <th>Region_North America</th>\n",
       "      <th>Region_Oceania</th>\n",
       "      <th>Region_Rest of Europe</th>\n",
       "      <th>Region_South America</th>\n",
       "    </tr>\n",
       "  </thead>\n",
       "  <tbody>\n",
       "    <tr>\n",
       "      <th>2122</th>\n",
       "      <td>0</td>\n",
       "      <td>0</td>\n",
       "      <td>0</td>\n",
       "      <td>0</td>\n",
       "      <td>0</td>\n",
       "      <td>0</td>\n",
       "      <td>0</td>\n",
       "      <td>1</td>\n",
       "      <td>2011</td>\n",
       "      <td>3.8</td>\n",
       "      <td>...</td>\n",
       "      <td>0</td>\n",
       "      <td>0</td>\n",
       "      <td>0</td>\n",
       "      <td>0</td>\n",
       "      <td>0</td>\n",
       "      <td>0</td>\n",
       "      <td>0</td>\n",
       "      <td>1</td>\n",
       "      <td>0</td>\n",
       "      <td>0</td>\n",
       "    </tr>\n",
       "    <tr>\n",
       "      <th>899</th>\n",
       "      <td>0</td>\n",
       "      <td>0</td>\n",
       "      <td>0</td>\n",
       "      <td>0</td>\n",
       "      <td>0</td>\n",
       "      <td>0</td>\n",
       "      <td>1</td>\n",
       "      <td>0</td>\n",
       "      <td>2012</td>\n",
       "      <td>4.9</td>\n",
       "      <td>...</td>\n",
       "      <td>0</td>\n",
       "      <td>0</td>\n",
       "      <td>0</td>\n",
       "      <td>0</td>\n",
       "      <td>0</td>\n",
       "      <td>0</td>\n",
       "      <td>1</td>\n",
       "      <td>0</td>\n",
       "      <td>0</td>\n",
       "      <td>0</td>\n",
       "    </tr>\n",
       "    <tr>\n",
       "      <th>1735</th>\n",
       "      <td>0</td>\n",
       "      <td>0</td>\n",
       "      <td>0</td>\n",
       "      <td>0</td>\n",
       "      <td>0</td>\n",
       "      <td>0</td>\n",
       "      <td>1</td>\n",
       "      <td>1</td>\n",
       "      <td>2000</td>\n",
       "      <td>85.0</td>\n",
       "      <td>...</td>\n",
       "      <td>1</td>\n",
       "      <td>1</td>\n",
       "      <td>0</td>\n",
       "      <td>0</td>\n",
       "      <td>0</td>\n",
       "      <td>0</td>\n",
       "      <td>0</td>\n",
       "      <td>0</td>\n",
       "      <td>0</td>\n",
       "      <td>0</td>\n",
       "    </tr>\n",
       "    <tr>\n",
       "      <th>2790</th>\n",
       "      <td>0</td>\n",
       "      <td>0</td>\n",
       "      <td>0</td>\n",
       "      <td>0</td>\n",
       "      <td>0</td>\n",
       "      <td>1</td>\n",
       "      <td>0</td>\n",
       "      <td>0</td>\n",
       "      <td>2007</td>\n",
       "      <td>8.1</td>\n",
       "      <td>...</td>\n",
       "      <td>1</td>\n",
       "      <td>0</td>\n",
       "      <td>0</td>\n",
       "      <td>0</td>\n",
       "      <td>0</td>\n",
       "      <td>1</td>\n",
       "      <td>0</td>\n",
       "      <td>0</td>\n",
       "      <td>0</td>\n",
       "      <td>0</td>\n",
       "    </tr>\n",
       "    <tr>\n",
       "      <th>794</th>\n",
       "      <td>0</td>\n",
       "      <td>0</td>\n",
       "      <td>0</td>\n",
       "      <td>0</td>\n",
       "      <td>0</td>\n",
       "      <td>1</td>\n",
       "      <td>0</td>\n",
       "      <td>1</td>\n",
       "      <td>2009</td>\n",
       "      <td>27.8</td>\n",
       "      <td>...</td>\n",
       "      <td>1</td>\n",
       "      <td>0</td>\n",
       "      <td>1</td>\n",
       "      <td>0</td>\n",
       "      <td>0</td>\n",
       "      <td>0</td>\n",
       "      <td>0</td>\n",
       "      <td>0</td>\n",
       "      <td>0</td>\n",
       "      <td>0</td>\n",
       "    </tr>\n",
       "  </tbody>\n",
       "</table>\n",
       "<p>5 rows × 35 columns</p>\n",
       "</div>"
      ],
      "text/plain": [
       "      Country_0  Country_1  Country_2  Country_3  Country_4  Country_5  \\\n",
       "2122          0          0          0          0          0          0   \n",
       "899           0          0          0          0          0          0   \n",
       "1735          0          0          0          0          0          0   \n",
       "2790          0          0          0          0          0          1   \n",
       "794           0          0          0          0          0          1   \n",
       "\n",
       "      Country_6  Country_7  Year  Infant_deaths  ...  \\\n",
       "2122          0          1  2011            3.8  ...   \n",
       "899           1          0  2012            4.9  ...   \n",
       "1735          1          1  2000           85.0  ...   \n",
       "2790          0          0  2007            8.1  ...   \n",
       "794           0          1  2009           27.8  ...   \n",
       "\n",
       "      Economy_status_Developing  Region_Africa  Region_Asia  \\\n",
       "2122                          0              0            0   \n",
       "899                           0              0            0   \n",
       "1735                          1              1            0   \n",
       "2790                          1              0            0   \n",
       "794                           1              0            1   \n",
       "\n",
       "      Region_Central America and Caribbean  Region_European Union  \\\n",
       "2122                                     0                      0   \n",
       "899                                      0                      0   \n",
       "1735                                     0                      0   \n",
       "2790                                     0                      0   \n",
       "794                                      0                      0   \n",
       "\n",
       "      Region_Middle East  Region_North America  Region_Oceania  \\\n",
       "2122                   0                     0               1   \n",
       "899                    0                     1               0   \n",
       "1735                   0                     0               0   \n",
       "2790                   1                     0               0   \n",
       "794                    0                     0               0   \n",
       "\n",
       "      Region_Rest of Europe  Region_South America  \n",
       "2122                      0                     0  \n",
       "899                       0                     0  \n",
       "1735                      0                     0  \n",
       "2790                      0                     0  \n",
       "794                       0                     0  \n",
       "\n",
       "[5 rows x 35 columns]"
      ]
     },
     "execution_count": 9,
     "metadata": {},
     "output_type": "execute_result"
    }
   ],
   "source": [
    "X_train_enc.head()"
   ]
  },
  {
   "cell_type": "markdown",
   "id": "1b6cf7d1",
   "metadata": {
    "papermill": {
     "duration": 0.005839,
     "end_time": "2024-02-29T10:50:14.618865",
     "exception": false,
     "start_time": "2024-02-29T10:50:14.613026",
     "status": "completed"
    },
    "tags": []
   },
   "source": [
    "# <span style=\"color:#5E6997\">Predict Life Expectancy</span> <a class=\"anchor\" id=\"predict\"></a>"
   ]
  },
  {
   "cell_type": "code",
   "execution_count": null,
   "id": "aa91fe47",
   "metadata": {
    "papermill": {
     "duration": 0.005775,
     "end_time": "2024-02-29T10:50:14.630539",
     "exception": false,
     "start_time": "2024-02-29T10:50:14.624764",
     "status": "completed"
    },
    "tags": []
   },
   "outputs": [],
   "source": []
  }
 ],
 "metadata": {
  "kaggle": {
   "accelerator": "none",
   "dataSources": [
    {
     "datasetId": 3065197,
     "sourceId": 5266275,
     "sourceType": "datasetVersion"
    }
   ],
   "dockerImageVersionId": 30646,
   "isGpuEnabled": false,
   "isInternetEnabled": true,
   "language": "python",
   "sourceType": "notebook"
  },
  "kernelspec": {
   "display_name": "Python 3",
   "language": "python",
   "name": "python3"
  },
  "language_info": {
   "codemirror_mode": {
    "name": "ipython",
    "version": 3
   },
   "file_extension": ".py",
   "mimetype": "text/x-python",
   "name": "python",
   "nbconvert_exporter": "python",
   "pygments_lexer": "ipython3",
   "version": "3.10.13"
  },
  "papermill": {
   "default_parameters": {},
   "duration": 8.790154,
   "end_time": "2024-02-29T10:50:15.358274",
   "environment_variables": {},
   "exception": null,
   "input_path": "__notebook__.ipynb",
   "output_path": "__notebook__.ipynb",
   "parameters": {},
   "start_time": "2024-02-29T10:50:06.568120",
   "version": "2.5.0"
  }
 },
 "nbformat": 4,
 "nbformat_minor": 5
}
